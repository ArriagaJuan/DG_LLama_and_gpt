{
 "cells": [
  {
   "cell_type": "markdown",
   "metadata": {},
   "source": [
    "<h1>Prueba individual de funcionamiento de llama 1b</h1>"
   ]
  },
  {
   "cell_type": "code",
   "execution_count": null,
   "metadata": {},
   "outputs": [
    {
     "name": "stderr",
     "output_type": "stream",
     "text": [
      "Some parameters are on the meta device because they were offloaded to the cpu.\n"
     ]
    }
   ],
   "source": [
    "import torch\n",
    "from transformers import pipeline\n",
    "\n",
    "model_id = \"meta-llama/Llama-3.2-1B-Instruct\"\n",
    "\n",
    "# Configurar el pipeline de generación de texto con el modelo Llama\n",
    "pipe = pipeline(\n",
    "    \"text-generation\",\n",
    "    model=model_id,\n",
    "    torch_dtype=torch.bfloat16,\n",
    "    device_map=\"cuda\",\n",
    ")\n",
    "\n",
    "role_message = \"You are Albert Einstein, a chatbot that answers questions directly and concisely.\"\n",
    "\n",
    "def question(user_message):\n",
    "    # Crear el prompt para el modelo\n",
    "    prompt = f\"{role_message}\\nUser: {user_message}\\nAlbert (respond briefly):\"\n",
    "    \n",
    "    # Generar una única respuesta\n",
    "    outputs = pipe(\n",
    "        prompt,\n",
    "        max_new_tokens=200,\n",
    "        do_sample=False,\n",
    "        temperature=0.3,  # Reducir la aleatoriedad para respuestas más directas\n",
    "        num_return_sequences=1,\n",
    "    )\n",
    "    \n",
    "    # Extraer la respuesta generada por el modelo\n",
    "    response = outputs[0][\"generated_text\"].split(\"Albert (respond briefly):\")[-1].strip()\n",
    "    \n",
    "    return response\n"
   ]
  },
  {
   "cell_type": "code",
   "execution_count": 35,
   "metadata": {},
   "outputs": [
    {
     "name": "stderr",
     "output_type": "stream",
     "text": [
      "Setting `pad_token_id` to `eos_token_id`:None for open-end generation.\n"
     ]
    },
    {
     "name": "stdout",
     "output_type": "stream",
     "text": [
      "Ah, a curious question indeed! Did you know that the shortest distance between\n",
      "two points is always a straight line? This concept, known as the \"geodesic\n",
      "distance,\" was first proposed by the ancient Greek mathematician Euclid.\n"
     ]
    }
   ],
   "source": [
    "import textwrap\n",
    "\n",
    "user_input = \"Dime un dato curioso\"\n",
    "response = question(user_input)\n",
    "formatted_response = textwrap.fill(response, width=80)  # Ajusta el ancho según prefieras\n",
    "print(formatted_response)\n"
   ]
  },
  {
   "cell_type": "code",
   "execution_count": null,
   "metadata": {},
   "outputs": [],
   "source": []
  }
 ],
 "metadata": {
  "kernelspec": {
   "display_name": "MD_multi",
   "language": "python",
   "name": "python3"
  },
  "language_info": {
   "codemirror_mode": {
    "name": "ipython",
    "version": 3
   },
   "file_extension": ".py",
   "mimetype": "text/x-python",
   "name": "python",
   "nbconvert_exporter": "python",
   "pygments_lexer": "ipython3",
   "version": "3.12.2"
  }
 },
 "nbformat": 4,
 "nbformat_minor": 2
}
